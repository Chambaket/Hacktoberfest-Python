{
 "cells": [
  {
   "cell_type": "code",
   "execution_count": 1,
   "metadata": {},
   "outputs": [
    {
     "name": "stdout",
     "output_type": "stream",
     "text": [
      "enter elements2 3 4 8 9 6 5 3 6 4\n",
      "tup1[3:6] ['8', '9', '6']\n"
     ]
    }
   ],
   "source": [
    "tup1=input(\"enter elements\").split()\n",
    "print(\"tup1[3:6]\",tup1[3:6])"
   ]
  },
  {
   "cell_type": "code",
   "execution_count": 2,
   "metadata": {},
   "outputs": [
    {
     "name": "stdout",
     "output_type": "stream",
     "text": [
      "('A', 'b', 'c', 'd')\n"
     ]
    }
   ],
   "source": [
    "t1=('a','b','c','d')\n",
    "t2=('A',)+t1[1:]\n",
    "print(t2)"
   ]
  },
  {
   "cell_type": "code",
   "execution_count": 1,
   "metadata": {},
   "outputs": [
    {
     "name": "stdout",
     "output_type": "stream",
     "text": [
      "4\n"
     ]
    }
   ],
   "source": [
    "tup=(1,6,9,5,7,3,2)\n",
    "print(tup.index(7))"
   ]
  },
  {
   "cell_type": "code",
   "execution_count": 5,
   "metadata": {},
   "outputs": [
    {
     "name": "stdout",
     "output_type": "stream",
     "text": [
      "enter elements1\n",
      "original values ['1']\n",
      "updated values [2]\n"
     ]
    }
   ],
   "source": [
    "def double(t):\n",
    "    return([int(i)*2 for i in t])\n",
    "tup1=input(\"enter elements\").split()\n",
    "print(\"original values\",tup1)\n",
    "print(\"updated values\",double(tup1))"
   ]
  },
  {
   "cell_type": "code",
   "execution_count": 7,
   "metadata": {},
   "outputs": [
    {
     "name": "stdout",
     "output_type": "stream",
     "text": [
      "4 1\n"
     ]
    }
   ],
   "source": [
    "tup=(25,6)\n",
    "quo,rem=divmod(*tup)\n",
    "print(quo,rem)"
   ]
  },
  {
   "cell_type": "code",
   "execution_count": 8,
   "metadata": {},
   "outputs": [
    {
     "name": "stdout",
     "output_type": "stream",
     "text": [
      "enter elements5\n",
      "enter elementsa\n",
      "[('5', 'a')]\n"
     ]
    }
   ],
   "source": [
    "tup1=input(\"enter elements\").split()\n",
    "list1=input(\"enter elements\").split()\n",
    "print(list(zip(tup1,list1)))"
   ]
  },
  {
   "cell_type": "code",
   "execution_count": null,
   "metadata": {},
   "outputs": [],
   "source": [
    "# Tupple Assignment\n",
    "(v1,v2,v3)=(4,7,9)\n",
    "print(v1,v2,v3)\n",
    "tup1=(10,20,30)\n",
    "(v1,v2,v3)=tup1\n",
    "print(v1,v2,v3)\n",
    "(v1,v2,v3)=(5+9,15%6, 9**3)\n",
    "print(v1,v2,v3)"
   ]
  },
  {
   "cell_type": "code",
   "execution_count": 9,
   "metadata": {},
   "outputs": [
    {
     "name": "stdout",
     "output_type": "stream",
     "text": [
      "enter email addressabc@gmail.com\n",
      "user name abc\n",
      "Domain Name gmail.com\n",
      "server name gmail\n"
     ]
    }
   ],
   "source": [
    "# split e-mail address\n",
    "addr=input(\"enter email address\")\n",
    "name,domain=addr.split('@')\n",
    "print(\"user name\",name)\n",
    "print(\"Domain Name\", domain)\n",
    "domain_n,com=domain.split('.')\n",
    "print(\"server name\",domain_n)"
   ]
  },
  {
   "cell_type": "code",
   "execution_count": 10,
   "metadata": {},
   "outputs": [
    {
     "name": "stdout",
     "output_type": "stream",
     "text": [
      "enter elements5 -6 2\n",
      "(5, 2)\n"
     ]
    }
   ],
   "source": [
    "# Add only positive values to new tuple\n",
    "tup1=map(int,input(\"enter elements\").split())\n",
    "new_t=()\n",
    "for i in tup1:\n",
    "    if i>0:\n",
    "        new_t += (i,)\n",
    "print(new_t)"
   ]
  },
  {
   "cell_type": "code",
   "execution_count": null,
   "metadata": {},
   "outputs": [],
   "source": []
  },
  {
   "cell_type": "code",
   "execution_count": 13,
   "metadata": {},
   "outputs": [
    {
     "name": "stdout",
     "output_type": "stream",
     "text": [
      "enter elements5 -3 4\n",
      "Total is 9\n"
     ]
    }
   ],
   "source": [
    "tup1=input(\"enter elements\").split()\n",
    "sum=0\n",
    "for i in tup1:\n",
    "    if int(i)>0:\n",
    "        sum += int(i)\n",
    "print(\"Total is\",sum)"
   ]
  },
  {
   "cell_type": "code",
   "execution_count": null,
   "metadata": {},
   "outputs": [],
   "source": []
  }
 ],
 "metadata": {
  "kernelspec": {
   "display_name": "Python 3",
   "language": "python",
   "name": "python3"
  },
  "language_info": {
   "codemirror_mode": {
    "name": "ipython",
    "version": 3
   },
   "file_extension": ".py",
   "mimetype": "text/x-python",
   "name": "python",
   "nbconvert_exporter": "python",
   "pygments_lexer": "ipython3",
   "version": "3.6.5"
  }
 },
 "nbformat": 4,
 "nbformat_minor": 2
}
